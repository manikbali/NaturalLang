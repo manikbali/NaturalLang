{
  "nbformat": 4,
  "nbformat_minor": 0,
  "metadata": {
    "colab": {
      "provenance": [],
      "include_colab_link": true
    },
    "kernelspec": {
      "name": "python3",
      "display_name": "Python 3"
    },
    "language_info": {
      "name": "python"
    }
  },
  "cells": [
    {
      "cell_type": "markdown",
      "metadata": {
        "id": "view-in-github",
        "colab_type": "text"
      },
      "source": [
        "<a href=\"https://colab.research.google.com/github/manikbali/NaturalLang/blob/main/OCR_%26_Text_Extraction.ipynb\" target=\"_parent\"><img src=\"https://colab.research.google.com/assets/colab-badge.svg\" alt=\"Open In Colab\"/></a>"
      ]
    },
    {
      "cell_type": "code",
      "source": [
        "!pip install numpy\n",
        "!pip install pytesseract"
      ],
      "metadata": {
        "colab": {
          "base_uri": "https://localhost:8080/"
        },
        "id": "plRGZl4e_Duu",
        "outputId": "ef7779e0-aad5-485e-b148-6be916238754"
      },
      "execution_count": null,
      "outputs": [
        {
          "output_type": "stream",
          "name": "stdout",
          "text": [
            "Requirement already satisfied: numpy in /usr/local/lib/python3.10/dist-packages (1.23.5)\n",
            "Requirement already satisfied: pytesseract in /usr/local/lib/python3.10/dist-packages (0.3.7)\n",
            "Requirement already satisfied: Pillow in /usr/local/lib/python3.10/dist-packages (from pytesseract) (9.4.0)\n"
          ]
        }
      ]
    },
    {
      "cell_type": "code",
      "source": [
        "! apt install tesseract-ocr\n",
        "! apt install libtesseract-dev"
      ],
      "metadata": {
        "colab": {
          "base_uri": "https://localhost:8080/"
        },
        "id": "sAWnVU6AFJK1",
        "outputId": "e91b6ab7-db10-48c3-aee1-08d41b5161ba"
      },
      "execution_count": null,
      "outputs": [
        {
          "output_type": "stream",
          "name": "stdout",
          "text": [
            "Reading package lists... Done\n",
            "Building dependency tree... Done\n",
            "Reading state information... Done\n",
            "The following additional packages will be installed:\n",
            "  tesseract-ocr-eng tesseract-ocr-osd\n",
            "The following NEW packages will be installed:\n",
            "  tesseract-ocr tesseract-ocr-eng tesseract-ocr-osd\n",
            "0 upgraded, 3 newly installed, 0 to remove and 16 not upgraded.\n",
            "Need to get 4,816 kB of archives.\n",
            "After this operation, 15.6 MB of additional disk space will be used.\n",
            "Get:1 http://archive.ubuntu.com/ubuntu jammy/universe amd64 tesseract-ocr-eng all 1:4.00~git30-7274cfa-1.1 [1,591 kB]\n",
            "Get:2 http://archive.ubuntu.com/ubuntu jammy/universe amd64 tesseract-ocr-osd all 1:4.00~git30-7274cfa-1.1 [2,990 kB]\n",
            "Get:3 http://archive.ubuntu.com/ubuntu jammy/universe amd64 tesseract-ocr amd64 4.1.1-2.1build1 [236 kB]\n",
            "Fetched 4,816 kB in 1s (6,062 kB/s)\n",
            "Selecting previously unselected package tesseract-ocr-eng.\n",
            "(Reading database ... 120831 files and directories currently installed.)\n",
            "Preparing to unpack .../tesseract-ocr-eng_1%3a4.00~git30-7274cfa-1.1_all.deb ...\n",
            "Unpacking tesseract-ocr-eng (1:4.00~git30-7274cfa-1.1) ...\n",
            "Selecting previously unselected package tesseract-ocr-osd.\n",
            "Preparing to unpack .../tesseract-ocr-osd_1%3a4.00~git30-7274cfa-1.1_all.deb ...\n",
            "Unpacking tesseract-ocr-osd (1:4.00~git30-7274cfa-1.1) ...\n",
            "Selecting previously unselected package tesseract-ocr.\n",
            "Preparing to unpack .../tesseract-ocr_4.1.1-2.1build1_amd64.deb ...\n",
            "Unpacking tesseract-ocr (4.1.1-2.1build1) ...\n",
            "Setting up tesseract-ocr-eng (1:4.00~git30-7274cfa-1.1) ...\n",
            "Setting up tesseract-ocr-osd (1:4.00~git30-7274cfa-1.1) ...\n",
            "Setting up tesseract-ocr (4.1.1-2.1build1) ...\n",
            "Processing triggers for man-db (2.10.2-1) ...\n",
            "Reading package lists... Done\n",
            "Building dependency tree... Done\n",
            "Reading state information... Done\n",
            "The following additional packages will be installed:\n",
            "  libarchive-dev libleptonica-dev\n",
            "The following NEW packages will be installed:\n",
            "  libarchive-dev libleptonica-dev libtesseract-dev\n",
            "0 upgraded, 3 newly installed, 0 to remove and 16 not upgraded.\n",
            "Need to get 3,743 kB of archives.\n",
            "After this operation, 16.0 MB of additional disk space will be used.\n",
            "Get:1 http://archive.ubuntu.com/ubuntu jammy/main amd64 libarchive-dev amd64 3.6.0-1ubuntu1 [581 kB]\n",
            "Get:2 http://archive.ubuntu.com/ubuntu jammy/universe amd64 libleptonica-dev amd64 1.82.0-3build1 [1,562 kB]\n",
            "Get:3 http://archive.ubuntu.com/ubuntu jammy/universe amd64 libtesseract-dev amd64 4.1.1-2.1build1 [1,600 kB]\n",
            "Fetched 3,743 kB in 1s (4,152 kB/s)\n",
            "Selecting previously unselected package libarchive-dev:amd64.\n",
            "(Reading database ... 120878 files and directories currently installed.)\n",
            "Preparing to unpack .../libarchive-dev_3.6.0-1ubuntu1_amd64.deb ...\n",
            "Unpacking libarchive-dev:amd64 (3.6.0-1ubuntu1) ...\n",
            "Selecting previously unselected package libleptonica-dev.\n",
            "Preparing to unpack .../libleptonica-dev_1.82.0-3build1_amd64.deb ...\n",
            "Unpacking libleptonica-dev (1.82.0-3build1) ...\n",
            "Selecting previously unselected package libtesseract-dev:amd64.\n",
            "Preparing to unpack .../libtesseract-dev_4.1.1-2.1build1_amd64.deb ...\n",
            "Unpacking libtesseract-dev:amd64 (4.1.1-2.1build1) ...\n",
            "Setting up libleptonica-dev (1.82.0-3build1) ...\n",
            "Setting up libarchive-dev:amd64 (3.6.0-1ubuntu1) ...\n",
            "Setting up libtesseract-dev:amd64 (4.1.1-2.1build1) ...\n",
            "Processing triggers for man-db (2.10.2-1) ...\n"
          ]
        }
      ]
    },
    {
      "cell_type": "code",
      "execution_count": null,
      "metadata": {
        "id": "FDaZoNos8qRq"
      },
      "outputs": [],
      "source": [
        "import cv2\n",
        "import pytesseract"
      ]
    },
    {
      "cell_type": "code",
      "source": [
        "from google.colab import drive\n",
        "drive.mount('/content/drive')"
      ],
      "metadata": {
        "colab": {
          "base_uri": "https://localhost:8080/"
        },
        "id": "UndBuhG6_Gay",
        "outputId": "4a729a49-456a-4066-f5d2-eff11818fcb2"
      },
      "execution_count": null,
      "outputs": [
        {
          "output_type": "stream",
          "name": "stdout",
          "text": [
            "Drive already mounted at /content/drive; to attempt to forcibly remount, call drive.mount(\"/content/drive\", force_remount=True).\n"
          ]
        }
      ]
    },
    {
      "cell_type": "code",
      "source": [
        "image=cv2.imread('/content/drive/MyDrive/Informal-letter.png')"
      ],
      "metadata": {
        "id": "Sn9DWw44Bs3r"
      },
      "execution_count": null,
      "outputs": []
    },
    {
      "cell_type": "code",
      "source": [
        "extracted_text=pytesseract.image_to_string(image)"
      ],
      "metadata": {
        "id": "bmboCgJFB3aK"
      },
      "execution_count": null,
      "outputs": []
    },
    {
      "cell_type": "code",
      "source": [
        "cleaned_text =extracted_text.lower().strip()"
      ],
      "metadata": {
        "id": "bwasnEEMFRr8"
      },
      "execution_count": null,
      "outputs": []
    },
    {
      "cell_type": "code",
      "source": [
        "print(cleaned_text)"
      ],
      "metadata": {
        "colab": {
          "base_uri": "https://localhost:8080/"
        },
        "id": "YGWi8scEFany",
        "outputId": "13bf98c9-89f7-47bc-91ff-d712f839e275"
      },
      "execution_count": null,
      "outputs": [
        {
          "output_type": "stream",
          "name": "stdout",
          "text": [
            "sector 17\n",
            "vashi\n",
            "new bombay\n",
            "\n",
            "6th july. 2013,\n",
            "\n",
            "dear maya\n",
            "\n",
            "thank you very much for your last letter. it was great to hear\n",
            "from you after so many months. you seem to be having a\n",
            "nice time in france.\n",
            "\n",
            "thanks also for the photographs. i absolutely loved that snap\n",
            "of yours standing in front of the eiffel tower. france looks\n",
            "stunning. someday, i would definitely le to go there.\n",
            "\n",
            "there’s not much happening here. i am busy with my work\n",
            "and kids.\n",
            "\n",
            "by the way, are you coming home anytime soon? if you are,\n",
            "let me know the dates and we can arrange to meet up.\n",
            "\n",
            "hope to see you soon!\n"
          ]
        }
      ]
    },
    {
      "cell_type": "markdown",
      "source": [
        "**Tokenization, stopwords removal, stemming/lemmatization, etc. can be applied here**"
      ],
      "metadata": {
        "id": "dBFY6168FngW"
      }
    },
    {
      "cell_type": "code",
      "source": [
        "from nltk.tokenize import sent_tokenize\n",
        "from nltk.corpus import stopwords"
      ],
      "metadata": {
        "id": "8HYpfZ04Fpme"
      },
      "execution_count": null,
      "outputs": []
    },
    {
      "cell_type": "code",
      "source": [
        "import nltk\n",
        "nltk.download('punkt')\n",
        "nltk.download('stopwords')"
      ],
      "metadata": {
        "colab": {
          "base_uri": "https://localhost:8080/"
        },
        "id": "2AuaejSdF-nM",
        "outputId": "fcfa31d4-aa7b-4b61-8d81-e8d761d73e92"
      },
      "execution_count": null,
      "outputs": [
        {
          "output_type": "stream",
          "name": "stderr",
          "text": [
            "[nltk_data] Downloading package punkt to /root/nltk_data...\n",
            "[nltk_data]   Package punkt is already up-to-date!\n",
            "[nltk_data] Downloading package stopwords to /root/nltk_data...\n",
            "[nltk_data]   Unzipping corpora/stopwords.zip.\n"
          ]
        },
        {
          "output_type": "execute_result",
          "data": {
            "text/plain": [
              "True"
            ]
          },
          "metadata": {},
          "execution_count": 23
        }
      ]
    },
    {
      "cell_type": "code",
      "source": [
        "cleaned_sent=[ s.replace(\"\\n\", \"\") for s in sent_tokenize(cleaned_text) ]  # Remove New Line charecters\n",
        "cleaned_sent[0]"
      ],
      "metadata": {
        "colab": {
          "base_uri": "https://localhost:8080/",
          "height": 35
        },
        "id": "m7Pk3kdRF2Vo",
        "outputId": "751e273d-82c8-4aaa-ed84-2a257f0f0297"
      },
      "execution_count": null,
      "outputs": [
        {
          "output_type": "execute_result",
          "data": {
            "text/plain": [
              "'sector 17vashinew bombay6th july.'"
            ],
            "application/vnd.google.colaboratory.intrinsic+json": {
              "type": "string"
            }
          },
          "metadata": {},
          "execution_count": 64
        }
      ]
    },
    {
      "cell_type": "code",
      "source": [
        "word_tokens = nltk.word_tokenize(cleaned_text)"
      ],
      "metadata": {
        "id": "fXwkgkYKGLbk"
      },
      "execution_count": null,
      "outputs": []
    },
    {
      "cell_type": "code",
      "source": [
        "stop_words = set(stopwords.words('english'))\n",
        "without_stopwords = [w for w in word_tokens if not w.lower() in stop_words]"
      ],
      "metadata": {
        "id": "FuloSFbpGSti"
      },
      "execution_count": null,
      "outputs": []
    },
    {
      "cell_type": "code",
      "source": [
        "cleaned_tokens=[word.lower() for word in without_stopwords if word.isalpha()]"
      ],
      "metadata": {
        "id": "S3M8cuScIJQK"
      },
      "execution_count": null,
      "outputs": []
    },
    {
      "cell_type": "code",
      "source": [
        "#without_stopwords"
      ],
      "metadata": {
        "id": "SBBDM0CRHHa5"
      },
      "execution_count": null,
      "outputs": []
    },
    {
      "cell_type": "markdown",
      "source": [
        "Task 2: Text Analysis using NLP\n",
        "- Identify named entities in the text extracted above using OCR.\n",
        "- Classify sentences based on sentiment (positive, negative, neutral).\n"
      ],
      "metadata": {
        "id": "OEJ0izbAHTxr"
      }
    },
    {
      "cell_type": "code",
      "source": [
        "cleaned_txt=str.join(\" \",cleaned_tokens)"
      ],
      "metadata": {
        "id": "zlu0jeTsHPxh"
      },
      "execution_count": null,
      "outputs": []
    },
    {
      "cell_type": "code",
      "source": [
        "import spacy\n",
        "import en_core_web_sm\n",
        "nlp = en_core_web_sm.load()"
      ],
      "metadata": {
        "id": "4bBWRCcYHmP6"
      },
      "execution_count": null,
      "outputs": []
    },
    {
      "cell_type": "code",
      "source": [
        "doc = nlp(cleaned_txt)\n",
        "hello =([(X.text, X.label_) for X in doc.ents])"
      ],
      "metadata": {
        "id": "BUzBzCytHwKU"
      },
      "execution_count": null,
      "outputs": []
    },
    {
      "cell_type": "code",
      "source": [
        "def entity_name(name):\n",
        "    for entity in hello:\n",
        "        if entity[1] == name:\n",
        "            print(entity[0])"
      ],
      "metadata": {
        "id": "h4YAb6YIH8-y"
      },
      "execution_count": null,
      "outputs": []
    },
    {
      "cell_type": "code",
      "source": [
        "print(\"Printing Entities..........\")\n",
        "print(\"\\nOrganization(s): \")\n",
        "entity_name(\"ORG\")\n",
        "print(\"\\nPerson(s):\")\n",
        "entity_name(\"PERSON\")\n",
        "print(\"\\nLocation(s):\")\n",
        "entity_name(\"GPE\")"
      ],
      "metadata": {
        "colab": {
          "base_uri": "https://localhost:8080/"
        },
        "id": "raJqta4FH-WL",
        "outputId": "9e4e812f-b438-4218-c6dc-cc4c67bbf153"
      },
      "execution_count": null,
      "outputs": [
        {
          "output_type": "stream",
          "name": "stdout",
          "text": [
            "Printing Entities..........\n",
            "\n",
            "Organization(s): \n",
            "\n",
            "Person(s):\n",
            "\n",
            "Location(s):\n",
            "bombay\n",
            "france\n",
            "france\n"
          ]
        }
      ]
    },
    {
      "cell_type": "code",
      "source": [
        "cleaned_text"
      ],
      "metadata": {
        "colab": {
          "base_uri": "https://localhost:8080/",
          "height": 70
        },
        "id": "TqYdP4g9UkZ9",
        "outputId": "fa31546d-bef0-4afd-cdea-2911cffe4fd3"
      },
      "execution_count": null,
      "outputs": [
        {
          "output_type": "execute_result",
          "data": {
            "text/plain": [
              "'sector 17\\nvashi\\nnew bombay\\n\\n6th july. 2013,\\n\\ndear maya\\n\\nthank you very much for your last letter. it was great to hear\\nfrom you after so many months. you seem to be having a\\nnice time in france.\\n\\nthanks also for the photographs. i absolutely loved that snap\\nof yours standing in front of the eiffel tower. france looks\\nstunning. someday, i would definitely le to go there.\\n\\nthere’s not much happening here. i am busy with my work\\nand kids.\\n\\nby the way, are you coming home anytime soon? if you are,\\nlet me know the dates and we can arrange to meet up.\\n\\nhope to see you soon!'"
            ],
            "application/vnd.google.colaboratory.intrinsic+json": {
              "type": "string"
            }
          },
          "metadata": {},
          "execution_count": 61
        }
      ]
    },
    {
      "cell_type": "markdown",
      "source": [
        "### **Sentiment Analysis**"
      ],
      "metadata": {
        "id": "9alBLEfUU9Eo"
      }
    },
    {
      "cell_type": "code",
      "source": [
        "from textblob import TextBlob\n",
        "\n",
        "for sentence in cleaned_sent:\n",
        "  blob=TextBlob(sentence)\n",
        "  sentiment=blob.sentiment\n",
        "  if sentiment.polarity >0:\n",
        "    sentiment_label=\"positive\"\n",
        "  elif sentiment.polarity <0:\n",
        "    sentiment_label=\"negative\"\n",
        "  else:\n",
        "    sentiment_label=\"Neutral\"\n",
        "  print(f\"Sentence: {sentence}\")\n",
        "  print(f\"Sentence: {sentiment_label}\")\n",
        "  print(\"...........\")"
      ],
      "metadata": {
        "colab": {
          "base_uri": "https://localhost:8080/"
        },
        "id": "yvdpUeFzJ2FO",
        "outputId": "61057efc-ef1a-4bd0-ce2f-5a357315e594"
      },
      "execution_count": null,
      "outputs": [
        {
          "output_type": "stream",
          "name": "stdout",
          "text": [
            "Sentence: sector 17vashinew bombay6th july.\n",
            "Sentence: Neutral\n",
            "...........\n",
            "Sentence: 2013,dear mayathank you very much for your last letter.\n",
            "Sentence: positive\n",
            "...........\n",
            "Sentence: it was great to hearfrom you after so many months.\n",
            "Sentence: positive\n",
            "...........\n",
            "Sentence: you seem to be having anice time in france.\n",
            "Sentence: Neutral\n",
            "...........\n",
            "Sentence: thanks also for the photographs.\n",
            "Sentence: positive\n",
            "...........\n",
            "Sentence: i absolutely loved that snapof yours standing in front of the eiffel tower.\n",
            "Sentence: positive\n",
            "...........\n",
            "Sentence: france looksstunning.\n",
            "Sentence: Neutral\n",
            "...........\n",
            "Sentence: someday, i would definitely le to go there.\n",
            "Sentence: Neutral\n",
            "...........\n",
            "Sentence: there’s not much happening here.\n",
            "Sentence: negative\n",
            "...........\n",
            "Sentence: i am busy with my workand kids.\n",
            "Sentence: positive\n",
            "...........\n",
            "Sentence: by the way, are you coming home anytime soon?\n",
            "Sentence: Neutral\n",
            "...........\n",
            "Sentence: if you are,let me know the dates and we can arrange to meet up.\n",
            "Sentence: Neutral\n",
            "...........\n",
            "Sentence: hope to see you soon!\n",
            "Sentence: Neutral\n",
            "...........\n"
          ]
        }
      ]
    }
  ]
}